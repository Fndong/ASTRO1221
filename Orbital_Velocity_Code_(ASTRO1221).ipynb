{
  "nbformat": 4,
  "nbformat_minor": 0,
  "metadata": {
    "colab": {
      "provenance": [],
      "authorship_tag": "ABX9TyOfMorVRrfp393MTNJgusH7",
      "include_colab_link": true
    },
    "kernelspec": {
      "name": "python3",
      "display_name": "Python 3"
    },
    "language_info": {
      "name": "python"
    }
  },
  "cells": [
    {
      "cell_type": "markdown",
      "metadata": {
        "id": "view-in-github",
        "colab_type": "text"
      },
      "source": [
        "<a href=\"https://colab.research.google.com/github/Fndong/ASTRO1221/blob/main/Orbital_Velocity_Code_(ASTRO1221).ipynb\" target=\"_parent\"><img src=\"https://colab.research.google.com/assets/colab-badge.svg\" alt=\"Open In Colab\"/></a>"
      ]
    },
    {
      "cell_type": "markdown",
      "source": [
        "$ V = \\sqrt\\frac{GM}{R}$ , equation for calculating orbital velocity"
      ],
      "metadata": {
        "id": "edC5j8eh4NgX"
      }
    },
    {
      "cell_type": "code",
      "source": [
        "import astropy.constants as const # import python package to call the value of certian constants\n",
        "import astropy.units as u # import python package to call certian units, e.g., the mass of the sun"
      ],
      "metadata": {
        "id": "HPhT1OKd5FnO"
      },
      "execution_count": 1,
      "outputs": []
    },
    {
      "cell_type": "code",
      "source": [
        "\n",
        "M = 1 * u.solMass  #  Define M as a physical quantity with a volue and a unit (value of the mass of the sun)\n",
        "print (M.to(u.kg))  #  Print out  in unit of kilograms"
      ],
      "metadata": {
        "colab": {
          "base_uri": "https://localhost:8080/"
        },
        "id": "MmpGSJjE6UZr",
        "outputId": "31ad3393-c1cb-4852-8d5a-773a46efbc85"
      },
      "execution_count": 9,
      "outputs": [
        {
          "output_type": "stream",
          "name": "stdout",
          "text": [
            "1.988409870698051e+30 kg\n"
          ]
        }
      ]
    },
    {
      "cell_type": "code",
      "source": [
        "R = 1*u.au #  Define R as the radius of the Earths orbit around the Sun in astronomical units\n",
        "print(R.to(u.km)) # Print out the radius of the Earths orbit"
      ],
      "metadata": {
        "colab": {
          "base_uri": "https://localhost:8080/"
        },
        "id": "y-m3DDSp7OzG",
        "outputId": "379306b7-cbb7-4df4-8f93-7e30f4fa9da8"
      },
      "execution_count": 5,
      "outputs": [
        {
          "output_type": "stream",
          "name": "stdout",
          "text": [
            "149597870.7 km\n"
          ]
        }
      ]
    },
    {
      "cell_type": "code",
      "source": [
        "G = const.G # graviational constant variable\n",
        "print (G.si) # Print out G in S.I unit"
      ],
      "metadata": {
        "colab": {
          "base_uri": "https://localhost:8080/"
        },
        "id": "jbHjfPNN8TOi",
        "outputId": "d50016ac-045e-496b-9654-15b1c847cf9a"
      },
      "execution_count": 6,
      "outputs": [
        {
          "output_type": "stream",
          "name": "stdout",
          "text": [
            "  Name   = Gravitational constant\n",
            "  Value  = 6.6743e-11\n",
            "  Uncertainty  = 1.5e-15\n",
            "  Unit  = m3 / (kg s2)\n",
            "  Reference = CODATA 2018\n"
          ]
        }
      ]
    },
    {
      "cell_type": "code",
      "source": [
        "import numpy as np # import for use of mathmatical functions/operations"
      ],
      "metadata": {
        "id": "rWwm7M178tei"
      },
      "execution_count": 7,
      "outputs": []
    },
    {
      "cell_type": "code",
      "source": [
        "V = np.sqrt(G * M/R) # calculation for orbital velocity based on the equation at the beginning. \\ symbol allows you to break a long line of code\n",
        "print (V.to(u.km/u.s)) # Print out orbital velocity of the Earth around the Sun"
      ],
      "metadata": {
        "colab": {
          "base_uri": "https://localhost:8080/"
        },
        "id": "Ip5eYzUY8yBY",
        "outputId": "65d432ba-2694-41fc-9ca1-494eb2ca2b9d"
      },
      "execution_count": 10,
      "outputs": [
        {
          "output_type": "stream",
          "name": "stdout",
          "text": [
            "29.784691829676934 km / s\n"
          ]
        }
      ]
    },
    {
      "cell_type": "markdown",
      "source": [
        "Orbital Velocity of Jupiter around the Sun Below"
      ],
      "metadata": {
        "id": "cyoZ9tYV1Scf"
      }
    },
    {
      "cell_type": "code",
      "source": [
        "R_jupiter = 5.2 * u.au # This is the orbital radius of Jupiter\n",
        "V_jupiter =  np.sqrt(G * M/R_jupiter) # calculation for orbital velocity based on the equation at the beginning. \\ symbol allows you to break a long line of code\n",
        "print (V_jupiter.to(u.km/u.s)) # Print out orbital velocity of the Jupiter around the Sun"
      ],
      "metadata": {
        "colab": {
          "base_uri": "https://localhost:8080/"
        },
        "id": "3pz_lrpm9sia",
        "outputId": "774849a6-d9ed-4644-8114-9993bc8c858d"
      },
      "execution_count": 11,
      "outputs": [
        {
          "output_type": "stream",
          "name": "stdout",
          "text": [
            "13.061451410903354 km / s\n"
          ]
        }
      ]
    },
    {
      "cell_type": "markdown",
      "source": [
        "Orbital Velocity of a Satallite Around Earth"
      ],
      "metadata": {
        "id": "Tp5pQdaH10Xk"
      }
    },
    {
      "cell_type": "code",
      "source": [
        "R_Satellite = 384.4 * u.au # This is the orbital Radius of an average Satellite around earth\n",
        "V_Satellite = np.sqrt(G * M/R_Satellite) # Calculation for orbital velocity of a satellite around earth\n",
        "print (V_Satellite.to(u.km/u.s)) # print out orbital velocity of a satallite around earth"
      ],
      "metadata": {
        "colab": {
          "base_uri": "https://localhost:8080/"
        },
        "id": "h55UjMQc2M06",
        "outputId": "d0da11eb-3942-45b2-9f07-63cb3c51b6de"
      },
      "execution_count": 13,
      "outputs": [
        {
          "output_type": "stream",
          "name": "stdout",
          "text": [
            "1.5191526707739842 km / s\n"
          ]
        }
      ]
    }
  ]
}