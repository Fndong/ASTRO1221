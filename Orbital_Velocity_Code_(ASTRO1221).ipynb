{
  "nbformat": 4,
  "nbformat_minor": 0,
  "metadata": {
    "colab": {
      "provenance": [],
      "authorship_tag": "ABX9TyPn7s8+rxzVSpan6+foAE6O",
      "include_colab_link": true
    },
    "kernelspec": {
      "name": "python3",
      "display_name": "Python 3"
    },
    "language_info": {
      "name": "python"
    }
  },
  "cells": [
    {
      "cell_type": "markdown",
      "metadata": {
        "id": "view-in-github",
        "colab_type": "text"
      },
      "source": [
        "<a href=\"https://colab.research.google.com/github/Fndong/ASTRO1221/blob/main/Orbital_Velocity_Code_(ASTRO1221).ipynb\" target=\"_parent\"><img src=\"https://colab.research.google.com/assets/colab-badge.svg\" alt=\"Open In Colab\"/></a>"
      ]
    },
    {
      "cell_type": "markdown",
      "source": [
        "$ V = \\sqrt\\frac{GM}{R}$ , equation for calculating orbital velocity"
      ],
      "metadata": {
        "id": "edC5j8eh4NgX"
      }
    },
    {
      "cell_type": "code",
      "source": [
        "import astropy.constants as const # import python package to call the value of certian constants\n",
        "import astropy.units as u # import python package to call certian units, e.g., the mass of the sun"
      ],
      "metadata": {
        "id": "HPhT1OKd5FnO"
      },
      "execution_count": null,
      "outputs": []
    },
    {
      "cell_type": "code",
      "source": [
        "M = 1 * u.solMass. # Define M as a physical quantity with a volue and a unit (value of the mass of the sun)\n",
        "print (M.to(u.kg)) # Print out  in unit of kilograms"
      ],
      "metadata": {
        "colab": {
          "base_uri": "https://localhost:8080/"
        },
        "id": "MmpGSJjE6UZr",
        "outputId": "a51e9d39-cf3f-4afb-b215-08cd6ff5b965"
      },
      "execution_count": null,
      "outputs": [
        {
          "output_type": "stream",
          "name": "stdout",
          "text": [
            "1.988409870698051e+30 kg\n"
          ]
        }
      ]
    },
    {
      "cell_type": "code",
      "source": [
        "R = 1*u.au #  Define R as the radius of the Earths orbit around the Sun in astronomical units\n",
        "print(R.to(u.km)) # Print out the radius of the Earths orbit"
      ],
      "metadata": {
        "colab": {
          "base_uri": "https://localhost:8080/"
        },
        "id": "y-m3DDSp7OzG",
        "outputId": "14a9d21b-0a2a-4e0c-fa1a-09ac6d9836e3"
      },
      "execution_count": null,
      "outputs": [
        {
          "output_type": "stream",
          "name": "stdout",
          "text": [
            "149597870.7 km\n"
          ]
        }
      ]
    },
    {
      "cell_type": "code",
      "source": [
        "G = const.G # graviational constant variable\n",
        "print (G.si) # Print out G in S.I unit"
      ],
      "metadata": {
        "colab": {
          "base_uri": "https://localhost:8080/"
        },
        "id": "jbHjfPNN8TOi",
        "outputId": "0ab35bec-d17f-49d7-8b80-d0fbea16452f"
      },
      "execution_count": null,
      "outputs": [
        {
          "output_type": "stream",
          "name": "stdout",
          "text": [
            "  Name   = Gravitational constant\n",
            "  Value  = 6.6743e-11\n",
            "  Uncertainty  = 1.5e-15\n",
            "  Unit  = m3 / (kg s2)\n",
            "  Reference = CODATA 2018\n"
          ]
        }
      ]
    },
    {
      "cell_type": "code",
      "source": [
        "import numpy as np # import for use of mathmatical functions/operations"
      ],
      "metadata": {
        "id": "rWwm7M178tei"
      },
      "execution_count": null,
      "outputs": []
    },
    {
      "cell_type": "code",
      "source": [
        "V = np.sqrt(G * M/R) # calculation for orbital velocity based on the equation at the beginning. \\ symbol allows you to break a long line of code\n",
        "print (V.to(u.km/u.s)) # Print out orbital velocity of the Earth around the Sun"
      ],
      "metadata": {
        "colab": {
          "base_uri": "https://localhost:8080/"
        },
        "id": "Ip5eYzUY8yBY",
        "outputId": "c4017d71-e9ae-49b3-c849-0df1db51c529"
      },
      "execution_count": null,
      "outputs": [
        {
          "output_type": "stream",
          "name": "stdout",
          "text": [
            "29.784691829676934 km / s\n"
          ]
        }
      ]
    },
    {
      "cell_type": "code",
      "source": [
        "R_jupiter = 5.2 * u.au # This is the orbital radius of Jupiter\n",
        "V_jupiter =  np.sqrt(G * M/R_jupiter) # calculation for orbital velocity based on the equation at the beginning. \\ symbol allows you to break a long line of code\n",
        "print (V_jupiter.to(u.km/u.s)) # Print out orbital velocity of the Jupiter around the Sun"
      ],
      "metadata": {
        "colab": {
          "base_uri": "https://localhost:8080/"
        },
        "id": "3pz_lrpm9sia",
        "outputId": "850afb2c-b604-4081-ffd3-515aa831f724"
      },
      "execution_count": null,
      "outputs": [
        {
          "output_type": "stream",
          "name": "stdout",
          "text": [
            "13.061451410903354 km / s\n"
          ]
        }
      ]
    },
    {
      "cell_type": "code",
      "source": [],
      "metadata": {
        "id": "8OzLqKPNIt1y"
      },
      "execution_count": null,
      "outputs": []
    }
  ]
}