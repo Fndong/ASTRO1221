{
  "nbformat": 4,
  "nbformat_minor": 0,
  "metadata": {
    "colab": {
      "provenance": [],
      "authorship_tag": "ABX9TyMDV1nAAEr92+idwAJjJVbM",
      "include_colab_link": true
    },
    "kernelspec": {
      "name": "python3",
      "display_name": "Python 3"
    },
    "language_info": {
      "name": "python"
    }
  },
  "cells": [
    {
      "cell_type": "markdown",
      "metadata": {
        "id": "view-in-github",
        "colab_type": "text"
      },
      "source": [
        "<a href=\"https://colab.research.google.com/github/Fndong/ASTRO1221/blob/main/Schwarzschild_radius_of_a_solar_mass_blackhole.ipynb\" target=\"_parent\"><img src=\"https://colab.research.google.com/assets/colab-badge.svg\" alt=\"Open In Colab\"/></a>"
      ]
    },
    {
      "cell_type": "markdown",
      "source": [
        "$ V = \\sqrt\\frac{GM}{R}$ , equation for calculating orbital velocity"
      ],
      "metadata": {
        "id": "edC5j8eh4NgX"
      }
    },
    {
      "cell_type": "code",
      "source": [
        "import astropy.constants as const # import python package to call the value of certian constants\n",
        "import astropy.units as u # import python package to call certian units, e.g., the mass of the sun"
      ],
      "metadata": {
        "id": "HPhT1OKd5FnO"
      },
      "execution_count": 1,
      "outputs": []
    },
    {
      "cell_type": "code",
      "source": [
        "mass = 1 * u.solMass # Define M as a physical quantity with a volue and a unit (value of the mass of the sun)\n",
        "print (M.to(u.kg)) # Print out  in unit of kilograms"
      ],
      "metadata": {
        "colab": {
          "base_uri": "https://localhost:8080/"
        },
        "id": "MmpGSJjE6UZr",
        "outputId": "d00c21d4-7f85-447d-ad3a-63c4312d8f78"
      },
      "execution_count": 8,
      "outputs": [
        {
          "output_type": "stream",
          "name": "stdout",
          "text": [
            "1.988409870698051e+30 kg\n"
          ]
        }
      ]
    },
    {
      "cell_type": "code",
      "source": [
        "V = int (299792458) # Orbital Velocity of Black Hole"
      ],
      "metadata": {
        "id": "pmZqBWh_LZdH"
      },
      "execution_count": 3,
      "outputs": []
    },
    {
      "cell_type": "code",
      "source": [
        "G = const.G # graviational constant variable\n",
        "print (G.si) # Print out G in S.I unit"
      ],
      "metadata": {
        "colab": {
          "base_uri": "https://localhost:8080/"
        },
        "id": "jbHjfPNN8TOi",
        "outputId": "b3b31eef-93fa-422c-e384-3f94d2962b43"
      },
      "execution_count": 4,
      "outputs": [
        {
          "output_type": "stream",
          "name": "stdout",
          "text": [
            "  Name   = Gravitational constant\n",
            "  Value  = 6.6743e-11\n",
            "  Uncertainty  = 1.5e-15\n",
            "  Unit  = m3 / (kg s2)\n",
            "  Reference = CODATA 2018\n"
          ]
        }
      ]
    },
    {
      "cell_type": "code",
      "source": [
        "C = const.c # Import variable for the Speed of Light\n",
        "print (C.si) # Print Speed of Light"
      ],
      "metadata": {
        "colab": {
          "base_uri": "https://localhost:8080/"
        },
        "id": "BezGiRkVNne-",
        "outputId": "b6cd660e-9de2-41cb-c42c-90c7aad775df"
      },
      "execution_count": 5,
      "outputs": [
        {
          "output_type": "stream",
          "name": "stdout",
          "text": [
            "  Name   = Speed of light in vacuum\n",
            "  Value  = 299792458.0\n",
            "  Uncertainty  = 0.0\n",
            "  Unit  = m / s\n",
            "  Reference = CODATA 2018\n"
          ]
        }
      ]
    },
    {
      "cell_type": "code",
      "source": [
        "import numpy as np # Import for use of mathmatical functions/operations"
      ],
      "metadata": {
        "id": "KRJfOndeJ8Hq"
      },
      "execution_count": 6,
      "outputs": []
    },
    {
      "cell_type": "code",
      "source": [
        "#solving for R\n",
        "mass_kg = mass * u.solMass.to(u.kg) # Define mass in Kilograms\n",
        "radius = (2 * const.G * mass_kg) / (const.c**2)  # Calculate Shwarzschild Radius\n",
        "radius = radius.to(u.km) # Convert Units of Shwarschild Radius\n",
        "print(radius) # Print Shwarzschild Radius\n"
      ],
      "metadata": {
        "colab": {
          "base_uri": "https://localhost:8080/"
        },
        "id": "ckKEbDK7PnHA",
        "outputId": "bc19cbe0-7783-41d2-a766-40d870a970ec"
      },
      "execution_count": 9,
      "outputs": [
        {
          "output_type": "stream",
          "name": "stdout",
          "text": [
            "5.872271601957507e+30 km\n"
          ]
        }
      ]
    }
  ]
}