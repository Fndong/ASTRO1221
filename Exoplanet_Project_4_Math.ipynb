{
  "nbformat": 4,
  "nbformat_minor": 0,
  "metadata": {
    "colab": {
      "provenance": [],
      "authorship_tag": "ABX9TyMoGPx+wE3aPZpuJhH0JoCa",
      "include_colab_link": true
    },
    "kernelspec": {
      "name": "python3",
      "display_name": "Python 3"
    },
    "language_info": {
      "name": "python"
    }
  },
  "cells": [
    {
      "cell_type": "markdown",
      "metadata": {
        "id": "view-in-github",
        "colab_type": "text"
      },
      "source": [
        "<a href=\"https://colab.research.google.com/github/Fndong/ASTRO1221/blob/main/Exoplanet_Project_4_Math.ipynb\" target=\"_parent\"><img src=\"https://colab.research.google.com/assets/colab-badge.svg\" alt=\"Open In Colab\"/></a>"
      ]
    },
    {
      "cell_type": "markdown",
      "source": [
        "Light Drop Formula : Delta = (\\frac{R {planet}} {R {star}})**2\n",
        "\n",
        "---\n",
        "\n"
      ],
      "metadata": {
        "id": "DTtpCqR15wvT"
      }
    },
    {
      "cell_type": "code",
      "source": [
        "import astropy.units as u # importing the necessary functions\n",
        "import astropy.constants as c\n",
        "import numpy as np"
      ],
      "metadata": {
        "id": "BRq_CZVn6BF5"
      },
      "execution_count": null,
      "outputs": []
    },
    {
      "cell_type": "code",
      "source": [
        "delta_earth_sun = (u.earthRad / u.solRad)**2 # solving for delta using the earths radius and suns radius\n",
        "delta_jupiter_sun = (u.jupiterRad / u.solRad)**2 # solving for delta using jupiters radius and the suns radius\n",
        "print(delta_earth_sun.decompose()) # printing both deltas with the correct units by using the decompose function\n",
        "print(delta_jupiter_sun.decompose())\n"
      ],
      "metadata": {
        "colab": {
          "base_uri": "https://localhost:8080/"
        },
        "id": "fNekhgTS6F48",
        "outputId": "1a4eb700-5f5c-4f32-a001-697d11ad1f46"
      },
      "execution_count": null,
      "outputs": [
        {
          "output_type": "stream",
          "name": "stdout",
          "text": [
            "8.40502e-05\n",
            "0.0105602\n"
          ]
        }
      ]
    },
    {
      "cell_type": "markdown",
      "source": [
        "Earths_Orbital_Velocity"
      ],
      "metadata": {
        "id": "Q3WSjq0Y8pdh"
      }
    },
    {
      "cell_type": "code",
      "source": [
        "v_orb_earth = np.sqrt(c.G * u.solMass / u.AU) # Defining earths radial veloctiy\n",
        "print (v_orb_earth.to(u.m/u.s))\n"
      ],
      "metadata": {
        "colab": {
          "base_uri": "https://localhost:8080/"
        },
        "id": "QzfndFfm7Ldy",
        "outputId": "dce45281-23ee-4f9a-9046-a2e86d859fb2"
      },
      "execution_count": null,
      "outputs": [
        {
          "output_type": "stream",
          "name": "stdout",
          "text": [
            "29784.691829676933 m / s\n"
          ]
        }
      ]
    },
    {
      "cell_type": "markdown",
      "source": [
        "Formula : mp / ms * Vp"
      ],
      "metadata": {
        "id": "tv0jv3oQ9xCJ"
      }
    },
    {
      "cell_type": "code",
      "source": [
        "v_sun = u.earthMass / u.solMass * v_orb_earth # solving for the orbital velocity of the sun using the earths orbital velocity and the earth and suns mass\n",
        "print (v_sun.to(u.m/u.s))"
      ],
      "metadata": {
        "colab": {
          "base_uri": "https://localhost:8080/"
        },
        "id": "yXuNT1059NZr",
        "outputId": "1efcf994-273b-4fd0-9f76-bbe8748a0b15"
      },
      "execution_count": null,
      "outputs": [
        {
          "output_type": "stream",
          "name": "stdout",
          "text": [
            "0.08945800466923791 m / s\n"
          ]
        }
      ]
    },
    {
      "cell_type": "markdown",
      "source": [
        "Vp = Mp a^1/2\n"
      ],
      "metadata": {
        "id": "S1gLF7XVAvP8"
      }
    },
    {
      "cell_type": "markdown",
      "source": [
        "Vstar = .09 m.s (mp/mplus)(P1year)^-1/3"
      ],
      "metadata": {
        "id": "mPsSc8m2B6Xd"
      }
    },
    {
      "cell_type": "code",
      "source": [
        "v_star_jupiter = 0.09 *u.m/u.s * (u.jupiterMass/u.earthMass)* (11.9 * u.yr/u.yr)**(-1/3) # solving for the radial velocity signal for Jupiter and the sun\n",
        "print (v_star_jupiter.to(u.m/u.s))"
      ],
      "metadata": {
        "colab": {
          "base_uri": "https://localhost:8080/"
        },
        "id": "SzOhiLOBBF34",
        "outputId": "4c1ac998-99dc-4616-ed73-290c3820a7ea"
      },
      "execution_count": null,
      "outputs": [
        {
          "output_type": "stream",
          "name": "stdout",
          "text": [
            "12.529091077198903 m / s\n"
          ]
        }
      ]
    },
    {
      "cell_type": "code",
      "source": [
        "(u.jupiterMass/u.earthMass).decompose() # ratio of masses between Jupiter and Earth"
      ],
      "metadata": {
        "colab": {
          "base_uri": "https://localhost:8080/",
          "height": 37
        },
        "id": "sP5K1f7wCkqw",
        "outputId": "7c083162-9583-4281-8839-02a5669ec7ef"
      },
      "execution_count": null,
      "outputs": [
        {
          "output_type": "execute_result",
          "data": {
            "text/plain": [
              "Unit(dimensionless with a scale of 317.8284065946748)"
            ],
            "text/latex": "$\\mathrm{317.82841}$"
          },
          "metadata": {},
          "execution_count": 15
        }
      ]
    },
    {
      "cell_type": "code",
      "source": [
        "rho_earth = u.earthMass / (4*np.pi*u.earthRad**3/3.0) # using the radial velocity to find the density of the earth\n",
        "print (rho_earth.to(u.g/u.cm**3))"
      ],
      "metadata": {
        "colab": {
          "base_uri": "https://localhost:8080/"
        },
        "id": "gqhd1IeNDF6o",
        "outputId": "c6e047c0-a045-46c5-c032-d6dcd71b6caa"
      },
      "execution_count": null,
      "outputs": [
        {
          "output_type": "stream",
          "name": "stdout",
          "text": [
            "5.495021865555213 g / cm3\n"
          ]
        }
      ]
    }
  ]
}