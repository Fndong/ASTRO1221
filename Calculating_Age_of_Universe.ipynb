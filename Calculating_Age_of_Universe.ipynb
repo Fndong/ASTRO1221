{
  "nbformat": 4,
  "nbformat_minor": 0,
  "metadata": {
    "colab": {
      "provenance": [],
      "authorship_tag": "ABX9TyOKsxTvGlgy8sl5GUSvl9dv",
      "include_colab_link": true
    },
    "kernelspec": {
      "name": "python3",
      "display_name": "Python 3"
    },
    "language_info": {
      "name": "python"
    }
  },
  "cells": [
    {
      "cell_type": "markdown",
      "metadata": {
        "id": "view-in-github",
        "colab_type": "text"
      },
      "source": [
        "<a href=\"https://colab.research.google.com/github/Fndong/ASTRO1221/blob/main/Calculating_Age_of_Universe.ipynb\" target=\"_parent\"><img src=\"https://colab.research.google.com/assets/colab-badge.svg\" alt=\"Open In Colab\"/></a>"
      ]
    },
    {
      "cell_type": "code",
      "source": [
        "def calculatingageofuniverse (H,d) :\n",
        "  age = d/H\n",
        "  age = age.to(u.year)\n",
        "  return age"
      ],
      "metadata": {
        "id": "4UL_WDcRDhLc"
      },
      "execution_count": 14,
      "outputs": []
    },
    {
      "cell_type": "code",
      "source": [
        "import numpy as np\n",
        "import astropy.units as u\n",
        "import astropy.constants as c"
      ],
      "metadata": {
        "id": "EBss93D6D-JG"
      },
      "execution_count": 15,
      "outputs": []
    },
    {
      "cell_type": "code",
      "source": [
        "d= 1\n",
        "H = 70 * u.km / u.s / u.Mpc\n",
        "Age_of_universe = calculatingageofuniverse(H,d)\n",
        "print(Age_of_universe)"
      ],
      "metadata": {
        "colab": {
          "base_uri": "https://localhost:8080/"
        },
        "id": "Iq7DllNfEGh0",
        "outputId": "9465bacd-76e4-4f7f-fd12-f9ce850bb148"
      },
      "execution_count": 17,
      "outputs": [
        {
          "output_type": "stream",
          "name": "stdout",
          "text": [
            "13968460309.72556 yr\n"
          ]
        }
      ]
    }
  ]
}